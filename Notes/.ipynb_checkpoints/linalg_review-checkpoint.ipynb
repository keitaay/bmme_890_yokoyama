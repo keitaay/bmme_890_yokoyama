{
 "cells": [
  {
   "cell_type": "markdown",
   "metadata": {},
   "source": [
    "# Linear Algebra Review\n",
    "\n",
    "Linear algebra is a compact way to represent/operate sets of linear equations"
   ]
  },
  {
   "cell_type": "code",
   "execution_count": 1,
   "metadata": {},
   "outputs": [],
   "source": [
    "# Pass a list of integers as an array\n",
    "import numpy as np\n",
    "A=np.array( [ [1,2,3], [4,5,6] ] )"
   ]
  },
  {
   "cell_type": "code",
   "execution_count": 2,
   "metadata": {},
   "outputs": [
    {
     "data": {
      "text/plain": [
       "array([1, 2, 3])"
      ]
     },
     "execution_count": 2,
     "metadata": {},
     "output_type": "execute_result"
    }
   ],
   "source": [
    "B=np.array([1,2,3])\n",
    "B.T"
   ]
  },
  {
   "cell_type": "code",
   "execution_count": 3,
   "metadata": {},
   "outputs": [
    {
     "data": {
      "text/plain": [
       "3"
      ]
     },
     "execution_count": 3,
     "metadata": {},
     "output_type": "execute_result"
    }
   ],
   "source": [
    "#b.T shows size of a as num rows, then num columns\n",
    "B[2]"
   ]
  },
  {
   "cell_type": "code",
   "execution_count": 4,
   "metadata": {},
   "outputs": [
    {
     "data": {
      "text/plain": [
       "array([4, 5, 6])"
      ]
     },
     "execution_count": 4,
     "metadata": {},
     "output_type": "execute_result"
    }
   ],
   "source": [
    "# remember Python starts indices with zero, not 1\n",
    "A[:,0]\n",
    "\n",
    "# in Python, you can simply use A[1]\n",
    "A[1,:]"
   ]
  },
  {
   "cell_type": "code",
   "execution_count": 5,
   "metadata": {},
   "outputs": [],
   "source": [
    "# Hadamard product = elementwise multiplication\n",
    "\n",
    "# 1st \"random\" is the package; 2nd \"random\" is the function\n",
    "A=np.random.random((2,3))"
   ]
  },
  {
   "cell_type": "code",
   "execution_count": 6,
   "metadata": {},
   "outputs": [
    {
     "data": {
      "text/plain": [
       "2"
      ]
     },
     "execution_count": 6,
     "metadata": {},
     "output_type": "execute_result"
    }
   ],
   "source": [
    "A.shape[0]"
   ]
  },
  {
   "cell_type": "markdown",
   "metadata": {},
   "source": [
    "## Element-wise multiplication of A & A using two for-loops"
   ]
  },
  {
   "cell_type": "code",
   "execution_count": 7,
   "metadata": {},
   "outputs": [
    {
     "data": {
      "text/plain": [
       "0.0"
      ]
     },
     "execution_count": 7,
     "metadata": {},
     "output_type": "execute_result"
    }
   ],
   "source": [
    "C=np.zeros((2,3))\n",
    "\n",
    "for i in range(A.shape[0]):\n",
    "    for j in range(A.shape[1]):\n",
    "        C[i,j]=A[i,j]*A[i,j]\n",
    "\n",
    "np.sum(np.abs(C-A*A))"
   ]
  },
  {
   "cell_type": "markdown",
   "metadata": {},
   "source": [
    "## Matrix multiplication\n",
    "Python/Numpy uses the @ symbol for matrix multiplication (as opposed to * for element-wise)"
   ]
  },
  {
   "cell_type": "code",
   "execution_count": 8,
   "metadata": {},
   "outputs": [
    {
     "data": {
      "text/plain": [
       "0.0"
      ]
     },
     "execution_count": 8,
     "metadata": {},
     "output_type": "execute_result"
    }
   ],
   "source": [
    "A=np.random.random((2,3))\n",
    "B=np.random.random((3,4))\n",
    "\n",
    "AB=np.zeros((A.shape[0],B.shape[1]))\n",
    "\n",
    "for i in range(A.shape[0]):\n",
    "    for j in range(B.shape[1]):\n",
    "        for k in range(A.shape[1]):\n",
    "            \n",
    "            # += adds another value with the variable's value and assigns the new value to the variable\n",
    "            #    i.e. >> x = 3\n",
    "            #         >> x += 2\n",
    "            #         >> print x\n",
    "            #       5\n",
    "            AB[i,j] += A[i,k]*B[k,j]\n",
    "            \n",
    "np.sum(np.abs(AB-A@B))"
   ]
  },
  {
   "cell_type": "markdown",
   "metadata": {},
   "source": [
    "## Vector-vector products (aka inner/dot product)\n",
    "...without using @\n",
    "\n",
    "**CRITICAL** - the @ function falls back to the inner product by default IF matrix dimensions do not allow for a matrix multiplication!!!"
   ]
  },
  {
   "cell_type": "code",
   "execution_count": 9,
   "metadata": {},
   "outputs": [
    {
     "data": {
      "text/plain": [
       "array([1.47680016, 1.47680016, 1.47680016])"
      ]
     },
     "execution_count": 9,
     "metadata": {},
     "output_type": "execute_result"
    }
   ],
   "source": [
    "A=np.random.random((5,1))\n",
    "B=np.random.random((5,1))\n",
    "\n",
    "C=np.zeros((3,))\n",
    "\n",
    "for n in range(len(A)):\n",
    "    C += A[n]*B[n]\n",
    "\n",
    "C"
   ]
  },
  {
   "cell_type": "markdown",
   "metadata": {},
   "source": [
    "## Outer products\n",
    "For vectors of arbitrary lengths:\n",
    "\n",
    "column vector * row vector = [x1y1 x1y2 ... x1yN; x2y1 x2y2 ... x2yN; ...; xNy1 ... xNyN]"
   ]
  },
  {
   "cell_type": "code",
   "execution_count": 10,
   "metadata": {},
   "outputs": [
    {
     "data": {
      "text/plain": [
       "2.511299083851751"
      ]
     },
     "execution_count": 10,
     "metadata": {},
     "output_type": "execute_result"
    }
   ],
   "source": [
    "A=np.random.random((2,1))\n",
    "B=np.random.random((1,5))\n",
    "\n",
    "C=np.zeros((2,5))\n",
    "\n",
    "for i in range(len(A)):\n",
    "    for j in range(len(B)):\n",
    "        C[i,j] = A[i,0]*B[0,j]\n",
    "\n",
    "np.sum(np.abs(C-np.outer(A,B)))"
   ]
  },
  {
   "cell_type": "code",
   "execution_count": 11,
   "metadata": {},
   "outputs": [
    {
     "name": "stdout",
     "output_type": "stream",
     "text": [
      "0.0\n"
     ]
    }
   ],
   "source": [
    "# \"Broadcasting\"\n",
    "print(np.sum(np.abs(A@B - np.outer(A,B))))"
   ]
  },
  {
   "cell_type": "code",
   "execution_count": 12,
   "metadata": {},
   "outputs": [
    {
     "data": {
      "text/plain": [
       "array([[1, 1, 1],\n",
       "       [2, 2, 2],\n",
       "       [3, 3, 3]])"
      ]
     },
     "execution_count": 12,
     "metadata": {},
     "output_type": "execute_result"
    }
   ],
   "source": [
    "# a fun trick with outer products\n",
    "a=[1,2,3]\n",
    "np.outer(a,[1,1,1])"
   ]
  },
  {
   "cell_type": "markdown",
   "metadata": {},
   "source": [
    "# Matrix-vector products\n",
    "useful for PCA etc."
   ]
  },
  {
   "cell_type": "code",
   "execution_count": 13,
   "metadata": {},
   "outputs": [
    {
     "name": "stdout",
     "output_type": "stream",
     "text": [
      "0.0\n"
     ]
    }
   ],
   "source": [
    "# for y = Ax, with A written by rows (i.e. a1 is for 1st row of A)\n",
    "A=np.random.random((7,3))\n",
    "x=np.random.random((3,1))\n",
    "y=np.zeros((7,1))\n",
    "\n",
    "for i in range(A.shape[0]):\n",
    "    y[i] = A[i] @ x\n",
    "\n",
    "print( np.sum(np.abs(y-A@x)) )"
   ]
  },
  {
   "cell_type": "code",
   "execution_count": 27,
   "metadata": {},
   "outputs": [
    {
     "name": "stdout",
     "output_type": "stream",
     "text": [
      "0.0\n"
     ]
    }
   ],
   "source": [
    "# if A were defined column-wise (i.e. a1 is for the first COLUMN of A)\n",
    "# this version makes it more obvious that y is a linear combination\n",
    "A=np.random.random((7,3))\n",
    "\n",
    "# broadcast variables automatically \"fill in\" non-matching variables so that matrix sizes are appropriate.\n",
    "# Over-defining the vector, for this example, actually caused the operation inside the for-loop to\n",
    "# become a matrix (not element) multiplication, causing the code to fail. To prevent this, the\n",
    "# below variables' 2nd dimensions were purposely left undefined.\n",
    "x=np.random.random((3,))\n",
    "y=np.zeros((7,))\n",
    "\n",
    "for i in range(A.shape[1]):\n",
    "    y += A[:,i] * x[i,0]\n",
    "    \n",
    "print( np.sum(np.abs(y-A@x)) )"
   ]
  },
  {
   "cell_type": "code",
   "execution_count": 25,
   "metadata": {},
   "outputs": [
    {
     "data": {
      "text/plain": [
       "(7,)"
      ]
     },
     "execution_count": 25,
     "metadata": {},
     "output_type": "execute_result"
    }
   ],
   "source": [
    "A[:,i].shape"
   ]
  },
  {
   "cell_type": "markdown",
   "metadata": {},
   "source": [
    "## Identity matrix"
   ]
  },
  {
   "cell_type": "code",
   "execution_count": 15,
   "metadata": {},
   "outputs": [
    {
     "data": {
      "text/plain": [
       "array([[1., 0., 0.],\n",
       "       [0., 1., 0.],\n",
       "       [0., 0., 1.]])"
      ]
     },
     "execution_count": 15,
     "metadata": {},
     "output_type": "execute_result"
    }
   ],
   "source": [
    "np.eye(3)"
   ]
  },
  {
   "cell_type": "markdown",
   "metadata": {},
   "source": [
    "## Diagonal matrix"
   ]
  },
  {
   "cell_type": "code",
   "execution_count": 16,
   "metadata": {},
   "outputs": [
    {
     "data": {
      "text/plain": [
       "array([[5, 0, 0, 0, 0],\n",
       "       [0, 4, 0, 0, 0],\n",
       "       [0, 0, 3, 0, 0],\n",
       "       [0, 0, 0, 2, 0],\n",
       "       [0, 0, 0, 0, 1]])"
      ]
     },
     "execution_count": 16,
     "metadata": {},
     "output_type": "execute_result"
    }
   ],
   "source": [
    "np.diag([5,4,3,2,1])"
   ]
  },
  {
   "cell_type": "markdown",
   "metadata": {},
   "source": [
    "## Transpose of a matrix"
   ]
  },
  {
   "cell_type": "code",
   "execution_count": 18,
   "metadata": {},
   "outputs": [
    {
     "name": "stdout",
     "output_type": "stream",
     "text": [
      "[[1 2 3]\n",
      " [1 2 3]\n",
      " [1 2 3]\n",
      " [1 2 3]\n",
      " [1 2 3]]\n",
      "  \n",
      "[[1 1 1 1 1]\n",
      " [2 2 2 2 2]\n",
      " [3 3 3 3 3]]\n"
     ]
    }
   ],
   "source": [
    "T=np.repeat([[1,2,3]], repeats=5, axis=0)\n",
    "\n",
    "print(T)\n",
    "print('  ')\n",
    "print(T.T)"
   ]
  },
  {
   "cell_type": "markdown",
   "metadata": {},
   "source": [
    "## Symmetric matrix\n",
    "Matrix is equal to its own transpose; **anti-** symmetric if matrix is negative version of that"
   ]
  },
  {
   "cell_type": "markdown",
   "metadata": {},
   "source": [
    "## Trace of a matrix\n",
    "Sum of elements of diagonal"
   ]
  },
  {
   "cell_type": "code",
   "execution_count": null,
   "metadata": {},
   "outputs": [],
   "source": []
  }
 ],
 "metadata": {
  "kernelspec": {
   "display_name": "Python 3",
   "language": "python",
   "name": "python3"
  },
  "language_info": {
   "codemirror_mode": {
    "name": "ipython",
    "version": 3
   },
   "file_extension": ".py",
   "mimetype": "text/x-python",
   "name": "python",
   "nbconvert_exporter": "python",
   "pygments_lexer": "ipython3",
   "version": "3.7.3"
  }
 },
 "nbformat": 4,
 "nbformat_minor": 2
}
