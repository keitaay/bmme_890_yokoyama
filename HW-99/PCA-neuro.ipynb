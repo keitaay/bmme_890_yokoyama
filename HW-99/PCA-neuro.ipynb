{
 "cells": [
  {
   "cell_type": "markdown",
   "metadata": {
    "slideshow": {
     "slide_type": "slide"
    }
   },
   "source": [
    "# Principal Component Analysis\n",
    "### A Primer on the Math and Application of PCA for Neural Interface Signal Postprocessing\n",
    "\n",
    "Katie Heath and Keita Yokoyama\n",
    "\n",
    "Oct. 22, 2019 - BMME 890-014\n",
    "\n",
    "Joint Dpt. of Biomedical Engineering, UNC-NCSU"
   ]
  },
  {
   "cell_type": "markdown",
   "metadata": {
    "slideshow": {
     "slide_type": "slide"
    }
   },
   "source": [
    "# What is PCA?"
   ]
  },
  {
   "cell_type": "markdown",
   "metadata": {},
   "source": [
    "\n",
    "\n",
    "**More on why feature scaling matters:**\n",
    "\n",
    "scikit-learn.org/stable/auto_examples/preprocessing/plot_scaling_importance.html#sphx-glr-auto-examples-preprocessing-plot-scaling-importance-py"
   ]
  },
  {
   "cell_type": "markdown",
   "metadata": {
    "slideshow": {
     "slide_type": "subslide"
    }
   },
   "source": [
    "## Orthogonality"
   ]
  },
  {
   "cell_type": "markdown",
   "metadata": {
    "slideshow": {
     "slide_type": "subslide"
    }
   },
   "source": [
    "## Relation to Unsupervised Learning and Classification"
   ]
  },
  {
   "cell_type": "markdown",
   "metadata": {
    "slideshow": {
     "slide_type": "subslide"
    }
   },
   "source": [
    "## PCA as a ML Pre-Processing Step"
   ]
  },
  {
   "cell_type": "markdown",
   "metadata": {
    "slideshow": {
     "slide_type": "subslide"
    }
   },
   "source": [
    "## PCA's Utility for Complex Signals"
   ]
  },
  {
   "cell_type": "markdown",
   "metadata": {
    "slideshow": {
     "slide_type": "slide"
    }
   },
   "source": [
    "# Study Design\n",
    "* Eight volunteers (5 men, 3 women; mean age 58 ± 12 yrs.)\n",
    "\n",
    "* \"definite, probable, or probable with laboratory support ALS diagnosis (mean ALSFRS-R scores: 32 ± 8)\"\n",
    "\n",
    "* EEG\n",
    "  * active Ag/AgCl electrodes\n",
    "  * ref: right earlobe\n",
    "  * gnd: left mastoid\n",
    "  * 256 Hz acquisition + bandpass 0.1-30 Hz"
   ]
  },
  {
   "cell_type": "markdown",
   "metadata": {
    "slideshow": {
     "slide_type": "subslide"
    }
   },
   "source": [
    "## Protocol\n",
    "\n",
    "* Prompt participantss with short words;\n",
    "* Present 6 x 6 matrix of characters, and;\n",
    "* Ask to focus attention on 1 character in the word at a time."
   ]
  },
  {
   "cell_type": "markdown",
   "metadata": {
    "slideshow": {
     "slide_type": "fragment"
    }
   },
   "source": [
    "Every 250 milliseconds, a different row or column of this matrix was successively and randomly made brighter.\n",
    "\n",
    "Two out of the 12 rows or columns (read: 1 row, and 1 column) contained the desired character."
   ]
  },
  {
   "cell_type": "markdown",
   "metadata": {
    "slideshow": {
     "slide_type": "subslide"
    }
   },
   "source": [
    "### Protocol: Stimulus Repetition\n",
    "\n",
    "The 12 stimulations constituted a single Stimulus Repetition...\n",
    "\n",
    "<div>\n",
    "<img src=\"protocol-1.png\" width=\"800\" alt=\"infographic contextualizing stimulus with respect to Stimulus Repetition\">\n",
    "</div>"
   ]
  },
  {
   "cell_type": "markdown",
   "metadata": {
    "slideshow": {
     "slide_type": "subslide"
    }
   },
   "source": [
    "### Protocol: Overall Study Design\n",
    "\n",
    "...and 10 Stimulus Repetitions were administered for one of 35 Trials (letters).\n",
    "\n",
    "<div>\n",
    "<img src=\"protocol-2.png\" width=\"800\" alt=\"infographic for higher-order protocol structure\">\n",
    "</div>"
   ]
  },
  {
   "cell_type": "markdown",
   "metadata": {
    "slideshow": {
     "slide_type": "slide"
    }
   },
   "source": [
    "# Partial Replication of *Riccio et al.*\n",
    "## Load Dataset"
   ]
  },
  {
   "cell_type": "code",
   "execution_count": 2,
   "metadata": {},
   "outputs": [],
   "source": [
    "from scipy.io import loadmat;   import numpy as np\n",
    "\n",
    "for n in range(8):        # for each of 8 subjects...\n",
    "    content=loadmat( '../Datasets/BMI_ALS/A0' + str(n+1) + '.mat' )['data'][0,0]\n",
    "    \n",
    "    trialNum=content[4]-1 # index for new trial, corrected from Matlab notation\n",
    "    \n",
    "    # NEED TO SEPARATE BELOW INTO INDIVIDUAL TRIALS/REPETITIONS/STIMULATIONS\n",
    "    # (ignore \"runs\" and ignore the context of words, for this analysis)\n",
    "    EEG_data=content[1]   # EEG waveform (sample x channel)\n",
    "    stimType=content[2]   # stimulation type (0=none, 1=nontarget, 2=target)\n",
    "    stimClas=content[3]   # stimulation class (1-12 for each column/row)"
   ]
  },
  {
   "cell_type": "markdown",
   "metadata": {
    "slideshow": {
     "slide_type": "subslide"
    }
   },
   "source": [
    "## Standard Scaling"
   ]
  },
  {
   "cell_type": "code",
   "execution_count": null,
   "metadata": {},
   "outputs": [],
   "source": [
    "from sklearn.preprocessing import StandardScaler\n",
    "\n",
    "# given some input \"x\"\n",
    "#x = StandardScaler().fit_transform(x) # Standardizing the features"
   ]
  },
  {
   "cell_type": "markdown",
   "metadata": {
    "slideshow": {
     "slide_type": "subslide"
    }
   },
   "source": [
    "## Examine Raw Data\n",
    "AKA: why looking at raw EEG data without context is pointless"
   ]
  },
  {
   "cell_type": "markdown",
   "metadata": {
    "slideshow": {
     "slide_type": "subslide"
    }
   },
   "source": [
    "## Reorganize Dataset by Trial"
   ]
  },
  {
   "cell_type": "code",
   "execution_count": null,
   "metadata": {},
   "outputs": [],
   "source": []
  },
  {
   "cell_type": "markdown",
   "metadata": {
    "slideshow": {
     "slide_type": "subslide"
    }
   },
   "source": [
    "## Apply PCA"
   ]
  },
  {
   "cell_type": "code",
   "execution_count": null,
   "metadata": {},
   "outputs": [],
   "source": [
    "from sklearn.decomposition import PCA\n",
    "\n",
    "pca1=PCA(n_components=2)\n",
    "x_pca1=pca1.fit_transform(x)\n",
    "\n",
    "pca2=PCA(0.95)\n",
    "x_pca2=pca2.fit_transform(x)\n"
   ]
  }
 ],
 "metadata": {
  "celltoolbar": "Slideshow",
  "kernelspec": {
   "display_name": "Python 3",
   "language": "python",
   "name": "python3"
  },
  "language_info": {
   "codemirror_mode": {
    "name": "ipython",
    "version": 3
   },
   "file_extension": ".py",
   "mimetype": "text/x-python",
   "name": "python",
   "nbconvert_exporter": "python",
   "pygments_lexer": "ipython3",
   "version": "3.7.4"
  }
 },
 "nbformat": 4,
 "nbformat_minor": 4
}
